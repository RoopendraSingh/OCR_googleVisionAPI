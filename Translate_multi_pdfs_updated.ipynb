{
 "cells": [
  {
   "cell_type": "code",
   "execution_count": 2,
   "metadata": {},
   "outputs": [
    {
     "name": "stdout",
     "output_type": "stream",
     "text": [
      "/opt/conda/bin/python\n",
      "3.7.8 | packaged by conda-forge | (default, Jul 31 2020, 02:25:08) \n",
      "[GCC 7.5.0]\n",
      "sys.version_info(major=3, minor=7, micro=8, releaselevel='final', serial=0)\n"
     ]
    }
   ],
   "source": [
    "import sys\n",
    "print(sys.executable)\n",
    "print(sys.version)\n",
    "print(sys.version_info)"
   ]
  },
  {
   "cell_type": "code",
   "execution_count": 1,
   "metadata": {},
   "outputs": [],
   "source": [
    "from google.cloud import translate"
   ]
  },
  {
   "cell_type": "code",
   "execution_count": 2,
   "metadata": {},
   "outputs": [],
   "source": [
    "def translate_text(target, text):\n",
    "    \"\"\"Translates text into the target language.\n",
    "\n",
    "    Target must be an ISO 639-1 language code.\n",
    "    See https://g.co/cloud/translate/v2/translate-reference#supported_languages\n",
    "    \"\"\"\n",
    "    import six\n",
    "    from google.cloud import translate_v2 as translate\n",
    "\n",
    "    translate_client = translate.Client()\n",
    "\n",
    "    if isinstance(text, six.binary_type):\n",
    "        text = text.decode(\"utf-8\")\n",
    "\n",
    "    # Text can also be a sequence of strings, in which case this method\n",
    "    # will return a sequence of results for each text.\n",
    "    result = translate_client.translate(text, target_language=target)\n",
    "\n",
    "#     print(u\"Text: {}\".format(result[\"input\"]))\n",
    "    print(u\"Translation: {}\\n\".format(result[\"translatedText\"]))\n",
    "#     print(u\"Detected source language: {}\\n\".format(result[\"detectedSourceLanguage\"]))\n"
   ]
  },
  {
   "cell_type": "code",
   "execution_count": 3,
   "metadata": {},
   "outputs": [],
   "source": [
    "def get_pages(file_path):\n",
    "    \n",
    "    # Load the pdf to the PdfFileReader object with default settings\n",
    "    with open(file_path, \"rb\") as pdf_file:\n",
    "        pdf_reader = PdfFileReader(pdf_file)\n",
    "        print(f\"The total number of pages in the pdf document is {pdf_reader.numPages}\")\n",
    "        \n",
    "    n = pdf_reader.numPages\n",
    "    val=list(range(1,n+1))\n",
    "    p = [val[i:i + 5] for i in range(0, len(val), 5)]  \n",
    "    print(p)\n",
    "#     print(p[0])\n",
    "#     print(p[1])\n",
    "    # requests_element = {'input_config': input_config, 'features': features, 'pages': pages}\n",
    "    return p"
   ]
  },
  {
   "cell_type": "code",
   "execution_count": 4,
   "metadata": {},
   "outputs": [],
   "source": [
    "###OCR"
   ]
  },
  {
   "cell_type": "code",
   "execution_count": 5,
   "metadata": {},
   "outputs": [],
   "source": [
    "from google.cloud import vision_v1\n",
    "from google.cloud.vision_v1 import enums\n",
    "import io\n",
    "import six\n",
    "import os\n",
    "from PyPDF2 import PdfFileReader"
   ]
  },
  {
   "cell_type": "code",
   "execution_count": 6,
   "metadata": {},
   "outputs": [
    {
     "name": "stdout",
     "output_type": "stream",
     "text": [
      "The total number of pages in the pdf document is 1\n",
      "[[1]]\n"
     ]
    }
   ],
   "source": [
    "pdf_path = \"COVID-19_SocialDistancing.pdf\"\n",
    "P = get_pages(pdf_path)"
   ]
  },
  {
   "cell_type": "code",
   "execution_count": 7,
   "metadata": {},
   "outputs": [],
   "source": [
    "def get_text(file_path):\n",
    "    client = vision_v1.ImageAnnotatorClient()\n",
    "    \n",
    "    if isinstance(file_path, six.binary_type):\n",
    "        file_path = file_path.decode('utf-8')\n",
    "    \n",
    "    mime_type = 'application/pdf'\n",
    "    with io.open(file_path, 'rb') as f:\n",
    "        content = f.read()\n",
    "    input_config = {'mime_type': mime_type, 'content': content}\n",
    "    type_ = enums.Feature.Type.DOCUMENT_TEXT_DETECTION\n",
    "    features_element = {'type': type_}\n",
    "    features = [features_element]\n",
    "\n",
    "    TEXT = []\n",
    "    for pages in P:\n",
    "        requests_element = {'input_config': input_config, 'features': features, 'pages': pages}\n",
    "        requests = [requests_element]\n",
    "\n",
    "        response = client.batch_annotate_files(requests)\n",
    "\n",
    "        for i, image_response in enumerate((response.responses[0].responses)):\n",
    "            Text = (image_response.full_text_annotation.text)\n",
    "            TEXT.append(Text)\n",
    "            \n",
    "    return TEXT"
   ]
  },
  {
   "cell_type": "code",
   "execution_count": 8,
   "metadata": {},
   "outputs": [],
   "source": [
    "PDF_TEXT = get_text(pdf_path)"
   ]
  },
  {
   "cell_type": "code",
   "execution_count": 9,
   "metadata": {},
   "outputs": [],
   "source": [
    "Target = {'Hindi': 'hi','Chinese':'zh', 'German':'de','Urdu':'ur'}\n",
    "language = ['Chinese','', 'Hindi', 'Urdu', '', 'German']"
   ]
  },
  {
   "cell_type": "code",
   "execution_count": 11,
   "metadata": {},
   "outputs": [
    {
     "name": "stdout",
     "output_type": "stream",
     "text": [
      "Translation: ILL स्टेट ऑफ इलिनोइस इलिनोइस स्टेट ऑफ पब्लिक हेल्थ COVID-19 सोशल डिस्टेंसिंग सोशल डिस्टेंसिंग क्रियाओं को प्रतिबंधित किया जाता है, जब लोग कोरोनोवायरस रोग (COVID-19) या समुदायों में अन्य संक्रामक रोगों के प्रसार को रोकने या धीमा करने के लिए एकत्र कर सकते हैं। सामाजिक दूर करने की क्रियाओं में एक साथ आने वाले लोगों के बड़े समूहों को सीमित करना, इमारतों को बंद करना या घटनाओं को रद्द करना शामिल है। अपने आप को और अपने समुदाय को सुरक्षित रखें अपनी दैनिक आदतों को बदलें DELIVERY पीक आवर्स में खरीदारी से बचें और खुदरा विक्रेताओं के साथ डिलीवरी या पिक-अप सेवाओं का लाभ उठाएं। अपने नियोक्ता के साथ काम करें अपने हाथों को अक्सर साबुन और पानी से कम से कम 20 सेकंड के लिए धोएं, खासकर बाथरूम जाने से पहले, खाने से पहले, और अपनी नाक बहने के बाद, खांसने या छींकने से। यदि आपके पास साबुन या पानी नहीं है, तो कम से कम 60 प्रतिशत शराब के साथ अल्कोहल-आधारित हैंड सैनिटाइज़र का उपयोग करें। जो लोग बीमार हैं उनसे निकट संपर्क से बचें और बीमार होने पर घर पर रहें। कंपनी की प्रथाओं को बदलने, लचीली पारी योजनाओं को स्थापित करने, कर्मचारियों को दूरसंचार देने और बड़ी बैठकें या सम्मेलन रद्द करने के लिए नेतृत्व के साथ सहयोग करें। विश्वविद्यालय और कॉलेज आपके और अन्य लोगों के बीच कम से कम छह फीट रहते हैं। सामाजिक अभिवादन के रूप में हाथ मिलाने से बचें। कैंपस कक्षाओं पर निलंबित करने, वेब-आधारित सीखने को लागू करने और बड़े कैंपस बैठकों और समारोहों को रद्द करने पर विचार करें। 6 फीट सार्वजनिक पारगमन भीड़ भरे स्थान यदि संभव हो तो सार्वजनिक पारगमन से बचें और सक्रिय प्रकोप वाले क्षेत्रों की यात्रा न करें। भीड़-भाड़ वाली जगहों से बचें। 1,000 या अधिक लोगों के साथ कार्यक्रम रद्द कर दिए गए हैं। 250 या अधिक अनुशंसित सामुदायिक कार्यक्रम रद्द या स्थगित कर दिए जाते हैं। प्रमुख खेल कार्यक्रम रद्द कर दिए जाते हैं। | CITY केंद्र ARENA मैं। LKC 2102 IDPH COVID-19 के बारे में प्रश्न? 1-800-889-3931 पर कॉल करें या ईमेल dph.sick@illipedia.gov इलिनोइस पब्लिक हेल्थ विभाग - www.dph.illipedia.gov ILLINOIS डिपार्टमेंट ऑफ पब्लिक इलिनोइस राज्य सरकार के प्राधिकरण द्वारा मुद्रित 3/13/20 IOCI 20 -643 जेओसी\n",
      "\n"
     ]
    }
   ],
   "source": [
    "language = ['Hindi']\n",
    "for k in range(len(PDF_TEXT)):\n",
    "    for i in language:\n",
    "        if (i == ''):\n",
    "            continue\n",
    "        translate_text(Target[i], PDF_TEXT[k])"
   ]
  },
  {
   "cell_type": "code",
   "execution_count": 37,
   "metadata": {},
   "outputs": [
    {
     "name": "stdout",
     "output_type": "stream",
     "text": [
      "Translation: 的状态 。 LOGINOIS行政部门16伊利诺伊州斯普林希德市INDEX部门于2020年3月15日在美国国务卿办公室2020年3月15日，行政命令2020-06号行政命令修订案，针对COVID-19（COVID-19，行政命令编号15）。 4）鉴于I州州长IB J. Pritzker于2020年3月9日爆发冠状病毒病（“ COVID-”，于2020年3月9日宣布伊利诺伊州所有县为灾区） 19％）；鉴于在2020年3月13日，第5号行政命令（2020年）下令关闭从2020年3月17日至2020年3月30日在伊利诺伊州为12岁的学生服务于幼儿园的所有公立和私立学校；因此，根据《伊利诺伊州应急管理机构法》（第20 ILCS 3305）第7（1），7（8）和7（12）条的规定，由我授予伊利诺伊州州长的权力修改第5号行政命令（2020），如下：第1节。从2020年3月17日开始，伊利诺伊州为幼儿园至12年级学生提供服务的所有公立和私立学校都将因教育目的而关闭，直到2020年3月30日。影响提供食物或其他非教育服务的学校建筑物的可用性，也不会影响用作选举投票地点的学校建筑物的可用性。由伊利诺伊州少年司法部，伊利诺伊州教育委员会或伊利诺伊州人类服务部运营的学校可以为教育目的而开放，但前提是这些学校能够采取必要的预防措施来保护学生的健康和安全，员工。第2条本行政命令取代任何其他先前的行政命令的相反规定。与本行政命令中的规定不抵触的任何规定应保持充分的效力。 PRA JB Pritzker，州长由州长发布2020年3月15日由国务卿提交2020年3月15日\n",
      "\n",
      "Translation: का राज्य । लॉजिस्टिक एक्ज़ीक्यूटिव डिपार्टमेंट 16 SPRINGHIDILD, ILLINOIS ht INDEX DEPARTMENT MAR 15 2020 मार्च ऑफ़ द स्टेट ऑफ़ द स्टेट ऑफ़ द 15 मार्च, 2020 एग्जीक्यूटिव ऑर्डर 2020 - 06 AM-CODIDSE to COVID-19 (COVID 19) को 1922 (EXCUTIVE) को पूरा करने का आदेश। 4) इलिनोइस के गवर्नर जेबी प्रित्जकर ने 9 मार्च, 2020 को कोरोनावायरस रोग 2019 के प्रकोप के जवाब में इलिनोइस राज्य में सभी काउंटी को 9 मार्च, 2020 को एक आपदा क्षेत्र के रूप में घोषित किया। 19%); और, 13 मार्च, 2020 को, कार्यकारी आदेश 5 (2020) ने 30 मार्च, 2020 तक शैक्षिक उद्देश्यों के लिए 12 वीं कक्षा के छात्रों के लिए इलिनोइस में प्री-किंडरगार्टन की सेवा देने वाले इलिनोइस के सभी सार्वजनिक और निजी स्कूलों को बंद करने का आदेश दिया; इसके अलावा, इलिनोइस राज्य के गवर्नर के रूप में मुझ में निहित शक्तियों द्वारा, और इलिनोइस आपातकालीन प्रबंधन एजेंसी अधिनियम, 20 ILCS 3305, मैं इसके द्वारा धारा 7 (1), 7 (8), और 7 (12) के अनुसरण में, मैं इसके द्वारा कार्यकारी आदेश 5 (2020) में निम्नानुसार संशोधन करें: खंड 1। 17 मार्च, 2020 से शुरू होकर, इलिनोइस के सभी सार्वजनिक और निजी स्कूलों में 30 मार्च, 2020 तक शैक्षणिक उद्देश्यों के लिए 12 वीं कक्षा के छात्रों के माध्यम से पूर्व-किंडरगार्टन की सेवा। यह आवश्यकता नहीं है भोजन या अन्य गैर-शैक्षिक सेवाओं के प्रावधान के लिए स्कूल भवनों की उपलब्धता को प्रभावित करते हैं, और न ही चुनाव के मतदान स्थानों के रूप में काम करने के लिए स्कूल भवनों की उपलब्धता को प्रभावित करते हैं। इलिनोइस राज्य किशोर न्याय विभाग, इलिनोइस स्टेट बोर्ड ऑफ एजुकेशन, या मानव सेवा विभाग इलिनोइस विभाग द्वारा संचालित शैक्षिक उद्देश्यों के लिए खुला रह सकता है, बशर्ते कि ये स्कूल छात्रों की स्वास्थ्य और सुरक्षा की रक्षा के लिए आवश्यक सावधानी बरतने में सक्षम हों। कर्मचारी। खंड 2. यह कार्यकारी आदेश किसी भी अन्य पूर्व कार्यकारी आदेश के विपरीत प्रावधान को बताता है। जो भी प्रावधान इस कार्यकारी आदेश के विपरीत नहीं हैं वे पूरी तरह से लागू रहेंगे। PRA JB Pritzker, राज्यपाल द्वारा जारी राज्यपाल 15 मार्च, 2020, राज्य के सचिव द्वारा दायर 15 मार्च, 2020\n",
      "\n",
      "Translation: اسٹیٹ آف 15 مارچ ، 2020 ایگزیکٹو آرڈر 2020 - 19 اگست کو جاری کردہ ہدایت نامہ میں عملی طور پر آرڈر 2020۔ 06 اگست کو اگست کو جاری کرنے کے لئے اگست 2020-05 کو منظوری کے لئے اگست میں 15 مارچ ، 2020 ایگزیکٹو آرڈر 2020 ء کے سیکرٹری آفس میں ، لاجینو ایکزائک ڈپارٹمنٹ 16 اسپرینگھلڈ ، آئلنسو ایچ ٹی انڈیکس ڈیپارٹمنٹ مارچ 152020۔ 4) جہاں ، میں ، ایل بیائے کے گورنر ، جے بی پرٹزکر نے 9 مارچ 2020 کو ریاست الینوائے کی تمام کاؤنٹیوں کو تباہی کا علاقہ قرار دیا (&quot;جبرنیوری ڈیزاسٹر کا اعلان&quot;) کورونا وائرس کی بیماری 2019 کے پھیلنے کے جواب میں (&quot;COVID- 19٪)؛ اور ، جہاں ، 13 مارچ ، 2020 کو ، ایگزیکٹو آرڈر 5 (2020) نے ایلی نوائے کے تمام سرکاری اور نجی اسکولوں کو 17 مارچ 2020 سے لے کر 30 مارچ ، 2020 ء تک تعلیمی مقاصد کے لئے 12 گریڈ کے طلباء کے ذریعہ پری کنڈرگارٹن میں خدمات انجام دینے والے بند اسکولوں کو بند رکھنے کا حکم دیا۔ اس سے پہلے ، مجھ پر ریاست الینوائے کے گورنر کی حیثیت سے اختیار کردہ اختیارات ، اور الینوائے ایمرجنسی مینجمنٹ ایجنسی ایکٹ ، 20 ILCS 3305 کے سیکشن 7 (1) ، 7 (8) ، اور 7 (12) کے مطابق ، میں نے اس کے تحت ایگزیکٹو آرڈر 5 (2020) میں مندرجہ ذیل ترمیم کریں: سیکشن 1۔ 17 مارچ ، 2020 سے ، ایلینوائس کے تمام سرکاری اور نجی اسکولوں میں 12 ویں جماعت کے طلبہ کے ذریعہ پہلے کنڈرگارٹن میں خدمات انجام دینے والے 30 مارچ ، 2020 تک تعلیمی مقاصد کے لئے قریب رہتے ہیں۔ یہ ضرورت نہیں ہے کھانے پینے یا دیگر غیر تعلیمی خدمات کی فراہمی کے لئے اسکولوں کی عمارتوں کی دستیابی پر اثر انداز ہوتا ہے ، اور نہ ہی یہ اسکولوں کی عمارتوں کی موجودگی کو انتخابی پولنگ کے مقامات کے طور پر کام کرنے پر اثر انداز ہوتا ہے۔ الینوائے ڈیپارٹمنٹ آف جووینائل جسٹس ، الینوائے اسٹیٹ بورڈ آف ایجوکیشن ، یا الینوائے محکمہ ہیومن سروسز کے ذریعہ چلائے جانے والے اسکول تعلیمی مقاصد کے لئے کھلے رہ سکتے ہیں بشرطیکہ یہ اسکول طلباء کی صحت اور حفاظت کے تحفظ کے لئے ضروری احتیاطی تدابیر اختیار کرسکیں اور عملہ سیکشن 2۔ یہ ایگزیکٹو آرڈر کسی دوسرے پیشگی ایگزیکٹو آرڈر کی کسی بھی برعکس فراہمی کو خارج کردیتا ہے۔ ایسی کوئی شقیں جو اس ایگزیکٹو آرڈر کے منافی نہیں ہیں وہ پوری طاقت اور عمل میں رہیں گی۔ پی آر اے جے بی پرٹزکر ، گورنر نے گورنر کے ذریعہ 15 مارچ 2020 کو جاری کیا ، سکریٹری ریاست کے ذریعہ 15 مارچ 2020 کو دائر\n",
      "\n",
      "Translation: ZUSTAND VON. LOGINOIS EXECUTIVE DEPARTMENT 16 SPRINGHIDILD, ILLINOIS ht INDEX DEPARTMENT 15. MÄRZ 2020 IM BÜRO DES SEKRETÄRS DES STAATS 15. März 2020 Executive Order 2020 - 06 ÄNDERUNG DER EXECUTIVE ORDER 2020-05 IN ANTWORT AUF COVID-19 (COVID-19 EXECUTIVE ORDER. 4) I, JB Pritzker, Gouverneur von Illinois, erklärte am 9. März 2020 alle Bezirke im Bundesstaat Illinois als Katastrophengebiet („Gubernatorial Disaster Proclamation“) als Reaktion auf den Ausbruch der Coronavirus-Krankheit 2019 („COVID- 19%); und IN DER ERWÄGUNG, dass am 13. März 2020 die Executive Order 5 (2020) die Schließung aller öffentlichen und privaten Schulen in Illinois anordnete, die vom 17. März 2020 bis zum 30. März 2020 Vorschulklassen für Schüler der 12. Klasse zu Bildungszwecken anbieten; Daher habe ich durch die mir als Gouverneur des Staates Illinois übertragenen Befugnisse und gemäß §§ 7 Abs. 1, 7 Abs. 8 und 7 Abs. 12 des Illinois Emergency Management Agency Act, 20 ILCS 3305, hiermit Ändern Sie die Executive Order 5 (2020) wie folgt: Abschnitt 1. Ab dem 17. März 2020 müssen alle öffentlichen und privaten Schulen in Illinois, die Vorschulkinder bis zur 12. Klasse betreuen, bis zum 30. März 2020 für Bildungszwecke geschlossen sein. Diese Anforderung gilt nicht Auswirkungen auf die Verfügbarkeit von Schulgebäuden für die Bereitstellung von Lebensmitteln oder anderen nicht bildungsbezogenen Dienstleistungen sowie auf die Verfügbarkeit von Schulgebäuden als Wahllokale. Schulen, die vom Illinois Department of Juvenile Justice, dem Illinois State Board of Education oder dem Illinois Department of Human Services betrieben werden, können für Bildungszwecke geöffnet bleiben, sofern diese Schulen in der Lage sind, die erforderlichen Vorkehrungen zum Schutz der Gesundheit und Sicherheit der Schüler zu treffen Mitarbeiter. Abschnitt 2. Diese Ausführungsverordnung ersetzt alle gegenteiligen Bestimmungen einer anderen vorherigen Ausführungsverordnung. Alle Bestimmungen, die nicht gegen die Bestimmungen dieser Ausführungsverordnung verstoßen, bleiben in vollem Umfang in Kraft und wirksam. PRA JB Pritzker, Gouverneur Herausgegeben vom Gouverneur 15. März 2020 Eingereicht vom Außenminister 15. März 2020\n",
      "\n"
     ]
    }
   ],
   "source": [
    "language = ['Hindi']\n",
    "for k in range(len(PDF_TEXT)):\n",
    "    for i in language:\n",
    "        if (i == ''):\n",
    "            continue\n",
    "        translate_text(Target[i], PDF_TEXT[k])"
   ]
  },
  {
   "cell_type": "code",
   "execution_count": 25,
   "metadata": {},
   "outputs": [
    {
     "name": "stdout",
     "output_type": "stream",
     "text": [
      "Copying file://Translate_multi_pdfs.ipynb [Content-Type=application/octet-stream]...\n",
      "/ [1/1 files][ 11.1 KiB/ 11.1 KiB] 100% Done                                    \n",
      "Operation completed over 1 objects/11.1 KiB.                                     \n"
     ]
    }
   ],
   "source": [
    "!gsutil -m cp -r \"Translate_multi_pdfs.ipynb\" \"gs://fca_retrain_output\""
   ]
  },
  {
   "cell_type": "code",
   "execution_count": null,
   "metadata": {},
   "outputs": [],
   "source": [
    "!gsutil -m cp -r \"Translate_multi_pdfs.ipynb\" \"gs://\""
   ]
  }
 ],
 "metadata": {
  "environment": {
   "name": "tf2-2-3-gpu.2-3.m59",
   "type": "gcloud",
   "uri": "gcr.io/deeplearning-platform-release/tf2-2-3-gpu.2-3:m59"
  },
  "kernelspec": {
   "display_name": "Python 3",
   "language": "python",
   "name": "python3"
  },
  "language_info": {
   "codemirror_mode": {
    "name": "ipython",
    "version": 3
   },
   "file_extension": ".py",
   "mimetype": "text/x-python",
   "name": "python",
   "nbconvert_exporter": "python",
   "pygments_lexer": "ipython3",
   "version": "3.7.8"
  }
 },
 "nbformat": 4,
 "nbformat_minor": 4
}
