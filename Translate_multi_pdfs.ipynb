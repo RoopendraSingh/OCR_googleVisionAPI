{
 "cells": [
  {
   "cell_type": "code",
   "execution_count": 2,
   "metadata": {},
   "outputs": [
    {
     "name": "stdout",
     "output_type": "stream",
     "text": [
      "/opt/conda/bin/python\n",
      "3.7.8 | packaged by conda-forge | (default, Jul 31 2020, 02:25:08) \n",
      "[GCC 7.5.0]\n",
      "sys.version_info(major=3, minor=7, micro=8, releaselevel='final', serial=0)\n"
     ]
    }
   ],
   "source": [
    "import sys\n",
    "print(sys.executable)\n",
    "print(sys.version)\n",
    "print(sys.version_info)"
   ]
  },
  {
   "cell_type": "code",
   "execution_count": 3,
   "metadata": {},
   "outputs": [],
   "source": [
    "from google.cloud import translate"
   ]
  },
  {
   "cell_type": "code",
   "execution_count": 15,
   "metadata": {},
   "outputs": [],
   "source": [
    "def translate_text(target, text):\n",
    "    \"\"\"Translates text into the target language.\n",
    "\n",
    "    Target must be an ISO 639-1 language code.\n",
    "    See https://g.co/cloud/translate/v2/translate-reference#supported_languages\n",
    "    \"\"\"\n",
    "    import six\n",
    "    from google.cloud import translate_v2 as translate\n",
    "\n",
    "    translate_client = translate.Client()\n",
    "\n",
    "    if isinstance(text, six.binary_type):\n",
    "        text = text.decode(\"utf-8\")\n",
    "\n",
    "    # Text can also be a sequence of strings, in which case this method\n",
    "    # will return a sequence of results for each text.\n",
    "    result = translate_client.translate(text, target_language=target)\n",
    "\n",
    "#     print(u\"Text: {}\".format(result[\"input\"]))\n",
    "    print(u\"Translation: {}\\n\".format(result[\"translatedText\"]))\n",
    "#     print(u\"Detected source language: {}\\n\".format(result[\"detectedSourceLanguage\"]))\n"
   ]
  },
  {
   "cell_type": "code",
   "execution_count": 16,
   "metadata": {},
   "outputs": [],
   "source": [
    "def get_pages(file_path):\n",
    "    client = vision_v1.ImageAnnotatorClient()\n",
    "    \n",
    "    if isinstance(file_path, six.binary_type):\n",
    "        file_path = file_path.decode('utf-8')\n",
    "    \n",
    "    mime_type = 'application/pdf'\n",
    "    with io.open(file_path, 'rb') as f:\n",
    "        content = f.read()\n",
    "    input_config = {'mime_type': mime_type, 'content': content}\n",
    "    type_ = enums.Feature.Type.DOCUMENT_TEXT_DETECTION\n",
    "    features_element = {'type': type_}\n",
    "    features = [features_element]\n",
    "    \n",
    "    # Load the pdf to the PdfFileReader object with default settings\n",
    "    with open(file_path, \"rb\") as pdf_file:\n",
    "        pdf_reader = PdfFileReader(pdf_file)\n",
    "        print(f\"The total number of pages in the pdf document is {pdf_reader.numPages}\")\n",
    "        \n",
    "    n = pdf_reader.numPages\n",
    "    val=list(range(1,n+1))\n",
    "    p = [val[i:i + 5] for i in range(0, len(val), 5)]  \n",
    "    print(p)\n",
    "#     print(p[0])\n",
    "#     print(p[1])\n",
    "    # requests_element = {'input_config': input_config, 'features': features, 'pages': pages}\n",
    "    return p"
   ]
  },
  {
   "cell_type": "code",
   "execution_count": 17,
   "metadata": {},
   "outputs": [],
   "source": [
    "###OCR"
   ]
  },
  {
   "cell_type": "code",
   "execution_count": 18,
   "metadata": {},
   "outputs": [],
   "source": [
    "from google.cloud import vision_v1\n",
    "from google.cloud.vision_v1 import enums\n",
    "import io\n",
    "import six\n",
    "import os\n",
    "from PyPDF2 import PdfFileReader"
   ]
  },
  {
   "cell_type": "code",
   "execution_count": 19,
   "metadata": {},
   "outputs": [
    {
     "name": "stdout",
     "output_type": "stream",
     "text": [
      "The total number of pages in the pdf document is 1\n",
      "[[1]]\n"
     ]
    }
   ],
   "source": [
    "pdf_path = \"ExecutiveOrder 2020-06.pdf\"\n",
    "P = get_pages(pdf_path)"
   ]
  },
  {
   "cell_type": "code",
   "execution_count": 20,
   "metadata": {},
   "outputs": [],
   "source": [
    "def get_text(file_path):\n",
    "    client = vision_v1.ImageAnnotatorClient()\n",
    "    \n",
    "    if isinstance(file_path, six.binary_type):\n",
    "        file_path = file_path.decode('utf-8')\n",
    "    \n",
    "    mime_type = 'application/pdf'\n",
    "    with io.open(file_path, 'rb') as f:\n",
    "        content = f.read()\n",
    "    input_config = {'mime_type': mime_type, 'content': content}\n",
    "    type_ = enums.Feature.Type.DOCUMENT_TEXT_DETECTION\n",
    "    features_element = {'type': type_}\n",
    "    features = [features_element]\n",
    "\n",
    "    TEXT = []\n",
    "    for pages in P:\n",
    "        requests_element = {'input_config': input_config, 'features': features, 'pages': pages}\n",
    "        requests = [requests_element]\n",
    "\n",
    "        response = client.batch_annotate_files(requests)\n",
    "\n",
    "        for i, image_response in enumerate((response.responses[0].responses)):\n",
    "            Text = (image_response.full_text_annotation.text)\n",
    "            TEXT.append(Text)\n",
    "            \n",
    "    return TEXT"
   ]
  },
  {
   "cell_type": "code",
   "execution_count": 21,
   "metadata": {},
   "outputs": [],
   "source": [
    "PDF_TEXT = get_text(pdf_path)"
   ]
  },
  {
   "cell_type": "code",
   "execution_count": 22,
   "metadata": {},
   "outputs": [],
   "source": [
    "Target = {'Hindi': 'hi','Chinese':'zh', 'German':'de','Urdu':'ur'}\n",
    "language = ['Chinese','', 'Hindi', 'Urdu', '', 'German']"
   ]
  },
  {
   "cell_type": "code",
   "execution_count": 24,
   "metadata": {},
   "outputs": [
    {
     "name": "stdout",
     "output_type": "stream",
     "text": [
      "Translation: का राज्य । लॉजिस्टिक एक्ज़ीक्यूटिव डिपार्टमेंट 16 SPRINGHIDILD, ILLINOIS ht INDEX DEPARTMENT MAR 15 2020 मार्च ऑफ़ द स्टेट ऑफ़ द स्टेट ऑफ़ द 15 मार्च, 2020 एग्जीक्यूटिव ऑर्डर 2020 - 06 AM-CODIDSE to COVID-19 (COVID 19) को 1922 (EXCUTIVE) को पूरा करने का आदेश। 4) इलिनोइस के गवर्नर जेबी प्रित्जकर ने 9 मार्च, 2020 को कोरोनावायरस रोग 2019 के प्रकोप के जवाब में इलिनोइस राज्य में सभी काउंटी को 9 मार्च, 2020 को एक आपदा क्षेत्र के रूप में घोषित किया। 19%); और, 13 मार्च, 2020 को, कार्यकारी आदेश 5 (2020) ने 30 मार्च, 2020 तक शैक्षिक उद्देश्यों के लिए 12 वीं कक्षा के छात्रों के लिए इलिनोइस में प्री-किंडरगार्टन की सेवा देने वाले इलिनोइस के सभी सार्वजनिक और निजी स्कूलों को बंद करने का आदेश दिया; इसके अलावा, इलिनोइस राज्य के गवर्नर के रूप में मुझ में निहित शक्तियों द्वारा, और इलिनोइस आपातकालीन प्रबंधन एजेंसी अधिनियम, 20 ILCS 3305, मैं इसके द्वारा धारा 7 (1), 7 (8), और 7 (12) के अनुसरण में, मैं इसके द्वारा कार्यकारी आदेश 5 (2020) में निम्नानुसार संशोधन करें: खंड 1। 17 मार्च, 2020 से शुरू होकर, इलिनोइस के सभी सार्वजनिक और निजी स्कूलों में 30 मार्च, 2020 तक शैक्षणिक उद्देश्यों के लिए 12 वीं कक्षा के छात्रों के माध्यम से पूर्व-किंडरगार्टन की सेवा। यह आवश्यकता नहीं है भोजन या अन्य गैर-शैक्षिक सेवाओं के प्रावधान के लिए स्कूल भवनों की उपलब्धता को प्रभावित करते हैं, और न ही चुनाव के मतदान स्थानों के रूप में काम करने के लिए स्कूल भवनों की उपलब्धता को प्रभावित करते हैं। इलिनोइस राज्य किशोर न्याय विभाग, इलिनोइस स्टेट बोर्ड ऑफ एजुकेशन, या मानव सेवा विभाग इलिनोइस विभाग द्वारा संचालित शैक्षिक उद्देश्यों के लिए खुला रह सकता है, बशर्ते कि ये स्कूल छात्रों की स्वास्थ्य और सुरक्षा की रक्षा के लिए आवश्यक सावधानी बरतने में सक्षम हों। कर्मचारी। खंड 2. यह कार्यकारी आदेश किसी भी अन्य पूर्व कार्यकारी आदेश के विपरीत प्रावधान को बताता है। जो भी प्रावधान इस कार्यकारी आदेश के विपरीत नहीं हैं वे पूरी तरह से लागू रहेंगे। PRA JB Pritzker, राज्यपाल द्वारा जारी राज्यपाल 15 मार्च, 2020, राज्य के सचिव द्वारा दायर 15 मार्च, 2020\n",
      "\n"
     ]
    }
   ],
   "source": [
    "language = ['Hindi']\n",
    "for k in range(len(PDF_TEXT)):\n",
    "    for i in language:\n",
    "        if (i == ''):\n",
    "            continue\n",
    "    translate_text(Target[i], PDF_TEXT[k])"
   ]
  },
  {
   "cell_type": "code",
   "execution_count": null,
   "metadata": {},
   "outputs": [],
   "source": [
    "!gsutil -m cp -r \"\" \"gs://fca_retrain_output\""
   ]
  }
 ],
 "metadata": {
  "environment": {
   "name": "tf2-2-3-gpu.2-3.m59",
   "type": "gcloud",
   "uri": "gcr.io/deeplearning-platform-release/tf2-2-3-gpu.2-3:m59"
  },
  "kernelspec": {
   "display_name": "Python 3",
   "language": "python",
   "name": "python3"
  },
  "language_info": {
   "codemirror_mode": {
    "name": "ipython",
    "version": 3
   },
   "file_extension": ".py",
   "mimetype": "text/x-python",
   "name": "python",
   "nbconvert_exporter": "python",
   "pygments_lexer": "ipython3",
   "version": "3.7.8"
  }
 },
 "nbformat": 4,
 "nbformat_minor": 4
}
